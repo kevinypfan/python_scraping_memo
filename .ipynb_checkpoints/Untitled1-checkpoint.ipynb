{
 "cells": [
  {
   "cell_type": "code",
   "execution_count": 49,
   "metadata": {},
   "outputs": [],
   "source": [
    "import requests\n",
    "from bs4 import BeautifulSoup\n",
    "import re\n",
    "pages = set()\n",
    "titles = []"
   ]
  },
  {
   "cell_type": "code",
   "execution_count": 21,
   "metadata": {},
   "outputs": [],
   "source": [
    "response = requests.get('https://www.youtube.com/results?search_query=facebook')"
   ]
  },
  {
   "cell_type": "code",
   "execution_count": 22,
   "metadata": {},
   "outputs": [],
   "source": [
    "html = response.text"
   ]
  },
  {
   "cell_type": "code",
   "execution_count": 29,
   "metadata": {},
   "outputs": [],
   "source": [
    "bs = BeautifulSoup(html, 'html.parser')"
   ]
  },
  {
   "cell_type": "code",
   "execution_count": 24,
   "metadata": {},
   "outputs": [],
   "source": [
    "all_video_tag = bs.find_all('a', href=re.compile('(watch)'))"
   ]
  },
  {
   "cell_type": "code",
   "execution_count": 46,
   "metadata": {},
   "outputs": [
    {
     "data": {
      "text/plain": [
       "['__class__',\n",
       " '__contains__',\n",
       " '__delattr__',\n",
       " '__delitem__',\n",
       " '__dir__',\n",
       " '__doc__',\n",
       " '__eq__',\n",
       " '__format__',\n",
       " '__ge__',\n",
       " '__getattribute__',\n",
       " '__getitem__',\n",
       " '__gt__',\n",
       " '__hash__',\n",
       " '__init__',\n",
       " '__init_subclass__',\n",
       " '__iter__',\n",
       " '__le__',\n",
       " '__len__',\n",
       " '__lt__',\n",
       " '__ne__',\n",
       " '__new__',\n",
       " '__reduce__',\n",
       " '__reduce_ex__',\n",
       " '__repr__',\n",
       " '__setattr__',\n",
       " '__setitem__',\n",
       " '__sizeof__',\n",
       " '__str__',\n",
       " '__subclasshook__',\n",
       " 'clear',\n",
       " 'copy',\n",
       " 'fromkeys',\n",
       " 'get',\n",
       " 'items',\n",
       " 'keys',\n",
       " 'pop',\n",
       " 'popitem',\n",
       " 'setdefault',\n",
       " 'update',\n",
       " 'values']"
      ]
     },
     "execution_count": 46,
     "metadata": {},
     "output_type": "execute_result"
    }
   ],
   "source": [
    "dir(all_video_tag[1].attrs)"
   ]
  },
  {
   "cell_type": "code",
   "execution_count": 60,
   "metadata": {},
   "outputs": [],
   "source": [
    "for link in all_video_tag:\n",
    "    if 'href' in link.attrs:\n",
    "        if link.attrs['href'] not in pages:\n",
    "            try:\n",
    "                pages.add(link.attrs['title'])\n",
    "                titles.append(link.attrs['title'])\n",
    "            except KeyError:\n",
    "                # Key is not present\n",
    "                pass\n",
    "            "
   ]
  },
  {
   "cell_type": "code",
   "execution_count": 51,
   "metadata": {},
   "outputs": [
    {
     "data": {
      "text/plain": [
       "{'5000 BTC Dump! | $7,500 Resistance | Facebook Coin Coming Now?? Libra?',\n",
       " 'BITCOIN FLASH CRASH! Still In Crypto Bull Market? - Coinbase Earn - Facebook Libra Switzerland',\n",
       " 'Exclusive Look Inside Facebook’s Engineering Office In London',\n",
       " 'FACEBOOK BAN RALLY: Louis Farrakhan in Chicago, IL',\n",
       " \"Facebook Is 'Too Big.' Facebook Co-Founder Chris Hughes Tells Us Why | NYT Opinion\",\n",
       " 'Facebook Secret History | Tamil | Madan Gowri | FB Story | MG | Hot or Not | Facemash',\n",
       " 'Facebook co-founder Chris Hughes calls for government to break up the company',\n",
       " \"Facebook co-founder: Mark Zuckerberg is a good person – and he's too powerful\",\n",
       " \"Facebook's F8 2019 keynote in 13 minutes\",\n",
       " \"Facebook's Secret Cryptocurrency\",\n",
       " 'Fingon Tralala - Tour de Ville - épisode 43 : facebook',\n",
       " 'GAME OF THRONES sur FACEBOOK',\n",
       " 'Making Facebook 3D Photo In Photoshop - 3d Depth Facebook',\n",
       " 'Mark Zuckerberg Reveals the Future of Facebook at F8 Event | NowThis',\n",
       " 'Michelle Malkin on being censored by Facebook',\n",
       " 'Reacting To Weird Facebook Videos',\n",
       " 'SBI Holdings: The Ripple XRP Ace In The Hole And Facebook Ties',\n",
       " 'The Town That Facebook Built | The B1M',\n",
       " 'Watch Mark Zuckerberg Outline Facebook’s New Privacy Approach'}"
      ]
     },
     "execution_count": 51,
     "metadata": {},
     "output_type": "execute_result"
    }
   ],
   "source": [
    "pages"
   ]
  },
  {
   "cell_type": "code",
   "execution_count": 53,
   "metadata": {},
   "outputs": [
    {
     "data": {
      "text/plain": [
       "[\"Facebook's Secret Cryptocurrency\",\n",
       " '5000 BTC Dump! | $7,500 Resistance | Facebook Coin Coming Now?? Libra?',\n",
       " 'Facebook Secret History | Tamil | Madan Gowri | FB Story | MG | Hot or Not | Facemash',\n",
       " 'Making Facebook 3D Photo In Photoshop - 3d Depth Facebook',\n",
       " 'Michelle Malkin on being censored by Facebook',\n",
       " 'BITCOIN FLASH CRASH! Still In Crypto Bull Market? - Coinbase Earn - Facebook Libra Switzerland',\n",
       " \"Facebook's F8 2019 keynote in 13 minutes\",\n",
       " 'Exclusive Look Inside Facebook’s Engineering Office In London',\n",
       " 'FACEBOOK BAN RALLY: Louis Farrakhan in Chicago, IL',\n",
       " 'Fingon Tralala - Tour de Ville - épisode 43 : facebook',\n",
       " 'SBI Holdings: The Ripple XRP Ace In The Hole And Facebook Ties',\n",
       " 'Facebook co-founder Chris Hughes calls for government to break up the company',\n",
       " 'Reacting To Weird Facebook Videos',\n",
       " 'Mark Zuckerberg Reveals the Future of Facebook at F8 Event | NowThis',\n",
       " \"Facebook Is 'Too Big.' Facebook Co-Founder Chris Hughes Tells Us Why | NYT Opinion\",\n",
       " 'The Town That Facebook Built | The B1M',\n",
       " 'GAME OF THRONES sur FACEBOOK',\n",
       " 'Watch Mark Zuckerberg Outline Facebook’s New Privacy Approach',\n",
       " \"Facebook co-founder: Mark Zuckerberg is a good person – and he's too powerful\"]"
      ]
     },
     "execution_count": 53,
     "metadata": {},
     "output_type": "execute_result"
    }
   ],
   "source": [
    "titles"
   ]
  },
  {
   "cell_type": "code",
   "execution_count": null,
   "metadata": {},
   "outputs": [],
   "source": []
  },
  {
   "cell_type": "code",
   "execution_count": null,
   "metadata": {},
   "outputs": [],
   "source": []
  }
 ],
 "metadata": {
  "kernelspec": {
   "display_name": "Python 3",
   "language": "python",
   "name": "python3"
  },
  "language_info": {
   "codemirror_mode": {
    "name": "ipython",
    "version": 3
   },
   "file_extension": ".py",
   "mimetype": "text/x-python",
   "name": "python",
   "nbconvert_exporter": "python",
   "pygments_lexer": "ipython3",
   "version": "3.7.3"
  }
 },
 "nbformat": 4,
 "nbformat_minor": 2
}
