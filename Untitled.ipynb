{
 "cells": [
  {
   "cell_type": "code",
   "execution_count": 1,
   "metadata": {},
   "outputs": [],
   "source": [
    "import requests\n",
    "from bs4 import BeautifulSoup\n",
    "import re\n",
    "pages = set()"
   ]
  },
  {
   "cell_type": "code",
   "execution_count": 2,
   "metadata": {},
   "outputs": [],
   "source": [
    "response = requests.get('https://www.youtube.com/channel/UCgaXpp6rHfvCeparAmdMAag/videos')"
   ]
  },
  {
   "cell_type": "code",
   "execution_count": 3,
   "metadata": {},
   "outputs": [],
   "source": [
    "html = response.text"
   ]
  },
  {
   "cell_type": "code",
   "execution_count": 4,
   "metadata": {},
   "outputs": [],
   "source": [
    "bs = BeautifulSoup(html, 'html.parser')"
   ]
  },
  {
   "cell_type": "code",
   "execution_count": 5,
   "metadata": {},
   "outputs": [
    {
     "ename": "NameError",
     "evalue": "name 'all_video_tag' is not defined",
     "output_type": "error",
     "traceback": [
      "\u001b[0;31m---------------------------------------------------------------------------\u001b[0m",
      "\u001b[0;31mNameError\u001b[0m                                 Traceback (most recent call last)",
      "\u001b[0;32m<ipython-input-5-0c257c585d93>\u001b[0m in \u001b[0;36m<module>\u001b[0;34m\u001b[0m\n\u001b[0;32m----> 1\u001b[0;31m \u001b[0mall_video_tag\u001b[0m\u001b[0;34m[\u001b[0m\u001b[0;36m0\u001b[0m\u001b[0;34m]\u001b[0m\u001b[0;34m\u001b[0m\u001b[0;34m\u001b[0m\u001b[0m\n\u001b[0m",
      "\u001b[0;31mNameError\u001b[0m: name 'all_video_tag' is not defined"
     ]
    }
   ],
   "source": [
    "all_video_tag[0]"
   ]
  },
  {
   "cell_type": "code",
   "execution_count": 6,
   "metadata": {},
   "outputs": [
    {
     "ename": "NameError",
     "evalue": "name 'all_video_tag' is not defined",
     "output_type": "error",
     "traceback": [
      "\u001b[0;31m---------------------------------------------------------------------------\u001b[0m",
      "\u001b[0;31mNameError\u001b[0m                                 Traceback (most recent call last)",
      "\u001b[0;32m<ipython-input-6-801c9f1888fd>\u001b[0m in \u001b[0;36m<module>\u001b[0;34m\u001b[0m\n\u001b[0;32m----> 1\u001b[0;31m \u001b[0;32mfor\u001b[0m \u001b[0mlink\u001b[0m \u001b[0;32min\u001b[0m \u001b[0mall_video_tag\u001b[0m\u001b[0;34m:\u001b[0m\u001b[0;34m\u001b[0m\u001b[0;34m\u001b[0m\u001b[0m\n\u001b[0m\u001b[1;32m      2\u001b[0m     \u001b[0;32mif\u001b[0m \u001b[0;34m'href'\u001b[0m \u001b[0;32min\u001b[0m \u001b[0mlink\u001b[0m\u001b[0;34m.\u001b[0m\u001b[0mattrs\u001b[0m\u001b[0;34m:\u001b[0m\u001b[0;34m\u001b[0m\u001b[0;34m\u001b[0m\u001b[0m\n\u001b[1;32m      3\u001b[0m         \u001b[0;32mif\u001b[0m \u001b[0mlink\u001b[0m\u001b[0;34m.\u001b[0m\u001b[0mattrs\u001b[0m\u001b[0;34m[\u001b[0m\u001b[0;34m'href'\u001b[0m\u001b[0;34m]\u001b[0m \u001b[0;32mnot\u001b[0m \u001b[0;32min\u001b[0m \u001b[0mpages\u001b[0m\u001b[0;34m:\u001b[0m\u001b[0;34m\u001b[0m\u001b[0;34m\u001b[0m\u001b[0m\n\u001b[1;32m      4\u001b[0m             \u001b[0mpages\u001b[0m\u001b[0;34m.\u001b[0m\u001b[0madd\u001b[0m\u001b[0;34m(\u001b[0m\u001b[0mlink\u001b[0m\u001b[0;34m.\u001b[0m\u001b[0mattrs\u001b[0m\u001b[0;34m[\u001b[0m\u001b[0;34m'href'\u001b[0m\u001b[0;34m]\u001b[0m\u001b[0;34m.\u001b[0m\u001b[0msplit\u001b[0m\u001b[0;34m(\u001b[0m\u001b[0;34m'='\u001b[0m\u001b[0;34m)\u001b[0m\u001b[0;34m[\u001b[0m\u001b[0;36m1\u001b[0m\u001b[0;34m]\u001b[0m\u001b[0;34m)\u001b[0m\u001b[0;34m\u001b[0m\u001b[0;34m\u001b[0m\u001b[0m\n",
      "\u001b[0;31mNameError\u001b[0m: name 'all_video_tag' is not defined"
     ]
    }
   ],
   "source": [
    "for link in all_video_tag:\n",
    "    if 'href' in link.attrs:\n",
    "        if link.attrs['href'] not in pages:\n",
    "            pages.add(link.attrs['href'].split('=')[1])"
   ]
  },
  {
   "cell_type": "code",
   "execution_count": null,
   "metadata": {},
   "outputs": [],
   "source": [
    "pages"
   ]
  },
  {
   "cell_type": "code",
   "execution_count": 2,
   "metadata": {},
   "outputs": [],
   "source": [
    "lists = [{'title': \"BLACKPINK - '마지막처럼 (AS IF IT'S YOUR LAST)' M/V\", 'link_id': 'Amq-qlqbjYA', 'views': 606472739}, {'title': 'TWICE \"TT\" M/V', 'link_id': 'ePpPVE-GGJw', 'views': 458916436}, {'title': 'TWICE \"LIKEY\" M/V', 'link_id': 'V2hlQkVJZhE', 'views': 382393819},{'title': \"BLACKPINK - '마지막처럼 (AS IF IT'S YOUR LAST)' M/V\", 'link_id': 'Amq-qlqbjYA', 'views': 606472739}]"
   ]
  },
  {
   "cell_type": "code",
   "execution_count": 3,
   "metadata": {},
   "outputs": [
    {
     "name": "stdout",
     "output_type": "stream",
     "text": [
      "[{'title': \"BLACKPINK - '마지막처럼 (AS IF IT'S YOUR LAST)' M/V\", 'link_id': 'Amq-qlqbjYA', 'views': 606472739}, {'title': 'TWICE \"TT\" M/V', 'link_id': 'ePpPVE-GGJw', 'views': 458916436}, {'title': 'TWICE \"LIKEY\" M/V', 'link_id': 'V2hlQkVJZhE', 'views': 382393819}, {'title': \"BLACKPINK - '마지막처럼 (AS IF IT'S YOUR LAST)' M/V\", 'link_id': 'Amq-qlqbjYA', 'views': 606472739}]\n"
     ]
    }
   ],
   "source": [
    "print(lists)"
   ]
  },
  {
   "cell_type": "code",
   "execution_count": 4,
   "metadata": {},
   "outputs": [
    {
     "data": {
      "text/plain": [
       "[{'title': 'TWICE \"LIKEY\" M/V', 'link_id': 'V2hlQkVJZhE', 'views': 382393819},\n",
       " {'title': \"BLACKPINK - '마지막처럼 (AS IF IT'S YOUR LAST)' M/V\",\n",
       "  'link_id': 'Amq-qlqbjYA',\n",
       "  'views': 606472739},\n",
       " {'title': 'TWICE \"TT\" M/V', 'link_id': 'ePpPVE-GGJw', 'views': 458916436}]"
      ]
     },
     "execution_count": 4,
     "metadata": {},
     "output_type": "execute_result"
    }
   ],
   "source": [
    "[dict(t) for t in set([tuple(d.items()) for d in lists])]"
   ]
  },
  {
   "cell_type": "code",
   "execution_count": 12,
   "metadata": {},
   "outputs": [
    {
     "name": "stdout",
     "output_type": "stream",
     "text": [
      "{'title': \"BLACKPINK - '마지막처럼 (AS IF IT'S YOUR LAST)' M/V\", 'link_id': 'Amq-qlqbjYA', 'views': 606472739}\n",
      "{'title': 'TWICE \"TT\" M/V', 'link_id': 'ePpPVE-GGJw', 'views': 458916436}\n",
      "{'title': 'TWICE \"LIKEY\" M/V', 'link_id': 'V2hlQkVJZhE', 'views': 382393819}\n",
      "{'title': \"BLACKPINK - '마지막처럼 (AS IF IT'S YOUR LAST)' M/V\", 'link_id': 'Amq-qlqbjYA', 'views': 606472739}\n"
     ]
    }
   ],
   "source": [
    "for d in lists:\n",
    "    print(dict(tuple(d.items())))"
   ]
  },
  {
   "cell_type": "code",
   "execution_count": null,
   "metadata": {},
   "outputs": [],
   "source": []
  }
 ],
 "metadata": {
  "kernelspec": {
   "display_name": "Python 3",
   "language": "python",
   "name": "python3"
  },
  "language_info": {
   "codemirror_mode": {
    "name": "ipython",
    "version": 3
   },
   "file_extension": ".py",
   "mimetype": "text/x-python",
   "name": "python",
   "nbconvert_exporter": "python",
   "pygments_lexer": "ipython3",
   "version": "3.7.3"
  }
 },
 "nbformat": 4,
 "nbformat_minor": 2
}
