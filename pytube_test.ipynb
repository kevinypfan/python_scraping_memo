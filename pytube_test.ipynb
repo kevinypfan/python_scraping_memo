{
 "cells": [
  {
   "cell_type": "code",
   "execution_count": 7,
   "metadata": {},
   "outputs": [
    {
     "name": "stdout",
     "output_type": "stream",
     "text": [
      "<Stream: itag=\"18\" mime_type=\"video/mp4\" res=\"360p\" fps=\"30fps\" vcodec=\"avc1.42001E\" acodec=\"mp4a.40.2\">\n",
      "<Stream: itag=\"313\" mime_type=\"video/webm\" res=\"2160p\" fps=\"30fps\" vcodec=\"vp9\">\n",
      "<Stream: itag=\"271\" mime_type=\"video/webm\" res=\"1440p\" fps=\"30fps\" vcodec=\"vp9\">\n",
      "<Stream: itag=\"137\" mime_type=\"video/mp4\" res=\"1080p\" fps=\"30fps\" vcodec=\"avc1.640028\">\n",
      "<Stream: itag=\"248\" mime_type=\"video/webm\" res=\"1080p\" fps=\"30fps\" vcodec=\"vp9\">\n",
      "<Stream: itag=\"136\" mime_type=\"video/mp4\" res=\"720p\" fps=\"30fps\" vcodec=\"avc1.4d401f\">\n",
      "<Stream: itag=\"247\" mime_type=\"video/webm\" res=\"720p\" fps=\"30fps\" vcodec=\"vp9\">\n",
      "<Stream: itag=\"135\" mime_type=\"video/mp4\" res=\"480p\" fps=\"30fps\" vcodec=\"avc1.4d401e\">\n",
      "<Stream: itag=\"244\" mime_type=\"video/webm\" res=\"480p\" fps=\"30fps\" vcodec=\"vp9\">\n",
      "<Stream: itag=\"397\" mime_type=\"video/mp4\" res=\"None\" fps=\"30fps\" vcodec=\"av01.0.05M.08\">\n",
      "<Stream: itag=\"134\" mime_type=\"video/mp4\" res=\"360p\" fps=\"30fps\" vcodec=\"avc1.4d401e\">\n",
      "<Stream: itag=\"243\" mime_type=\"video/webm\" res=\"360p\" fps=\"30fps\" vcodec=\"vp9\">\n",
      "<Stream: itag=\"396\" mime_type=\"video/mp4\" res=\"None\" fps=\"30fps\" vcodec=\"av01.0.05M.08\">\n",
      "<Stream: itag=\"133\" mime_type=\"video/mp4\" res=\"240p\" fps=\"30fps\" vcodec=\"avc1.4d4015\">\n",
      "<Stream: itag=\"242\" mime_type=\"video/webm\" res=\"240p\" fps=\"30fps\" vcodec=\"vp9\">\n",
      "<Stream: itag=\"395\" mime_type=\"video/mp4\" res=\"None\" fps=\"30fps\" vcodec=\"av01.0.05M.08\">\n",
      "<Stream: itag=\"160\" mime_type=\"video/mp4\" res=\"144p\" fps=\"30fps\" vcodec=\"avc1.4d400c\">\n",
      "<Stream: itag=\"278\" mime_type=\"video/webm\" res=\"144p\" fps=\"30fps\" vcodec=\"vp9\">\n",
      "<Stream: itag=\"394\" mime_type=\"video/mp4\" res=\"None\" fps=\"30fps\" vcodec=\"av01.0.05M.08\">\n",
      "<Stream: itag=\"140\" mime_type=\"audio/mp4\" abr=\"128kbps\" acodec=\"mp4a.40.2\">\n",
      "<Stream: itag=\"171\" mime_type=\"audio/webm\" abr=\"128kbps\" acodec=\"vorbis\">\n",
      "<Stream: itag=\"249\" mime_type=\"audio/webm\" abr=\"50kbps\" acodec=\"opus\">\n",
      "<Stream: itag=\"250\" mime_type=\"audio/webm\" abr=\"70kbps\" acodec=\"opus\">\n",
      "<Stream: itag=\"251\" mime_type=\"audio/webm\" abr=\"160kbps\" acodec=\"opus\">\n"
     ]
    },
    {
     "data": {
      "text/plain": [
       "'/Users/fanzhenzhe/Music/pytube_downloads/TWICE FANCY MV.mp4'"
      ]
     },
     "execution_count": 7,
     "metadata": {},
     "output_type": "execute_result"
    }
   ],
   "source": [
    "from pytube import YouTube\n",
    "\n",
    "# ダウンロードしたいページのurlを入れる。\n",
    "url = 'https://www.youtube.com/watch?v=kOHB85vDuow'\n",
    "download_path = r'/Users/fanzhenzhe/Music/pytube_downloads'\n",
    "# 打つのがめんどうなので変数ytに入れる。\n",
    "yt = YouTube(url)\n",
    "\n",
    "# yt.streams.all()で一覧が出るがリストで返ってきてみづらいのでforで回す。\n",
    "for lis in yt.streams.all():\n",
    "    print(lis)\n",
    "\n",
    "# get_by_itagとdownloadでダウンロードができる。\n",
    "yt.streams.get_by_itag(140).download(output_path=download_path)"
   ]
  },
  {
   "cell_type": "code",
   "execution_count": 24,
   "metadata": {},
   "outputs": [],
   "source": [
    "import subprocess\n",
    "import os\n",
    "import glob\n",
    "import re\n",
    "\n",
    "dir = glob.glob(r'/Users/fanzhenzhe/Music/pytube_downloads/*.mp4')\n",
    "# print(dir)\n",
    "\n",
    "name = [re.split('(\\.mp4)$', n)[0] for n in dir] # splitを使ってファイル名と拡張子に分けてファイル名だけをnameに入れる\n",
    "# print(name) # 念のため取得したファイル名を確認\n",
    "\n",
    "# work_path = r'/usr/local/Cellar/ffmpeg/4.1.3_1/bin'\n",
    "\n",
    "# os.chdir(work_path)\n",
    "\n",
    "for file in name:\n",
    "    subprocess.call(['ffmpeg', '-i',                # or subprocess.run (Python 3.5+)\n",
    "        os.path.join(file + '.mp4'),\n",
    "        os.path.join(file + '.mp3')\n",
    "    ])"
   ]
  },
  {
   "cell_type": "code",
   "execution_count": 27,
   "metadata": {},
   "outputs": [],
   "source": [
    "list1 = [{'title': \"BLACKPINK - '마지막처럼 (AS IF IT'S YOUR LAST)' M/V\", 'link_id': 'Amq-qlqbjYA', 'views': 606472739}, {'title': 'TWICE \"TT\" M/V', 'link_id': 'ePpPVE-GGJw', 'views': 458916436}, {'title': 'TWICE \"LIKEY\" M/V', 'link_id': 'V2hlQkVJZhE', 'views': 382393819}]\n",
    "list2 = [{'title': 'TWICE \"TT\" M/V', 'link_id': 'ePpPVE-GGJw', 'views': 458928481}, {'title': 'TWICE \"LIKEY\" M/V', 'link_id': 'V2hlQkVJZhE', 'views': 382410435}, {'title': \"BLACKPINK - '휘파람'(WHISTLE) M/V\", 'link_id': 'dISNgvVpWlo', 'views': 375032969}]"
   ]
  },
  {
   "cell_type": "code",
   "execution_count": 28,
   "metadata": {},
   "outputs": [
    {
     "data": {
      "text/plain": [
       "[{'title': \"BLACKPINK - '마지막처럼 (AS IF IT'S YOUR LAST)' M/V\",\n",
       "  'link_id': 'Amq-qlqbjYA',\n",
       "  'views': 606472739},\n",
       " {'title': 'TWICE \"TT\" M/V', 'link_id': 'ePpPVE-GGJw', 'views': 458916436},\n",
       " {'title': 'TWICE \"LIKEY\" M/V', 'link_id': 'V2hlQkVJZhE', 'views': 382393819},\n",
       " {'title': 'TWICE \"TT\" M/V', 'link_id': 'ePpPVE-GGJw', 'views': 458928481},\n",
       " {'title': 'TWICE \"LIKEY\" M/V', 'link_id': 'V2hlQkVJZhE', 'views': 382410435},\n",
       " {'title': \"BLACKPINK - '휘파람'(WHISTLE) M/V\",\n",
       "  'link_id': 'dISNgvVpWlo',\n",
       "  'views': 375032969}]"
      ]
     },
     "execution_count": 28,
     "metadata": {},
     "output_type": "execute_result"
    }
   ],
   "source": []
  },
  {
   "cell_type": "code",
   "execution_count": 29,
   "metadata": {},
   "outputs": [
    {
     "data": {
      "text/plain": [
       "[{'title': \"BLACKPINK - '마지막처럼 (AS IF IT'S YOUR LAST)' M/V\",\n",
       "  'link_id': 'Amq-qlqbjYA',\n",
       "  'views': 606472739},\n",
       " {'title': 'TWICE \"TT\" M/V', 'link_id': 'ePpPVE-GGJw', 'views': 458928481},\n",
       " {'title': 'TWICE \"LIKEY\" M/V', 'link_id': 'V2hlQkVJZhE', 'views': 382393819},\n",
       " {'title': 'TWICE \"LIKEY\" M/V', 'link_id': 'V2hlQkVJZhE', 'views': 382410435},\n",
       " {'title': 'TWICE \"TT\" M/V', 'link_id': 'ePpPVE-GGJw', 'views': 458916436},\n",
       " {'title': \"BLACKPINK - '휘파람'(WHISTLE) M/V\",\n",
       "  'link_id': 'dISNgvVpWlo',\n",
       "  'views': 375032969}]"
      ]
     },
     "execution_count": 29,
     "metadata": {},
     "output_type": "execute_result"
    }
   ],
   "source": [
    "[dict(t) for t in set([tuple(d.items()) for d in list1 + list2])]"
   ]
  },
  {
   "cell_type": "code",
   "execution_count": 50,
   "metadata": {},
   "outputs": [
    {
     "data": {
      "text/plain": [
       "[{'title': \"BLACKPINK - '마지막처럼 (AS IF IT'S YOUR LAST)' M/V\",\n",
       "  'link_id': 'Amq-qlqbjYA'},\n",
       " {'title': 'TWICE \"LIKEY\" M/V', 'link_id': 'V2hlQkVJZhE'},\n",
       " {'title': 'TWICE \"TT\" M/V', 'link_id': 'ePpPVE-GGJw'},\n",
       " {'title': \"BLACKPINK - '휘파람'(WHISTLE) M/V\", 'link_id': 'dISNgvVpWlo'}]"
      ]
     },
     "execution_count": 50,
     "metadata": {},
     "output_type": "execute_result"
    }
   ],
   "source": [
    "[dict(t) for t in set([tuple(d.items())[0:2] for d in list1 + list2])]"
   ]
  },
  {
   "cell_type": "code",
   "execution_count": 37,
   "metadata": {},
   "outputs": [
    {
     "data": {
      "text/plain": [
       "[dict_items([('title', \"BLACKPINK - '마지막처럼 (AS IF IT'S YOUR LAST)' M/V\"), ('link_id', 'Amq-qlqbjYA'), ('views', 606472739)]),\n",
       " dict_items([('title', 'TWICE \"TT\" M/V'), ('link_id', 'ePpPVE-GGJw'), ('views', 458916436)]),\n",
       " dict_items([('title', 'TWICE \"LIKEY\" M/V'), ('link_id', 'V2hlQkVJZhE'), ('views', 382393819)]),\n",
       " dict_items([('title', 'TWICE \"TT\" M/V'), ('link_id', 'ePpPVE-GGJw'), ('views', 458928481)]),\n",
       " dict_items([('title', 'TWICE \"LIKEY\" M/V'), ('link_id', 'V2hlQkVJZhE'), ('views', 382410435)]),\n",
       " dict_items([('title', \"BLACKPINK - '휘파람'(WHISTLE) M/V\"), ('link_id', 'dISNgvVpWlo'), ('views', 375032969)])]"
      ]
     },
     "execution_count": 37,
     "metadata": {},
     "output_type": "execute_result"
    }
   ],
   "source": [
    "[d.items() for d in list1 + list2]"
   ]
  },
  {
   "cell_type": "code",
   "execution_count": 49,
   "metadata": {},
   "outputs": [
    {
     "data": {
      "text/plain": [
       "(('title', \"BLACKPINK - '마지막처럼 (AS IF IT'S YOUR LAST)' M/V\"),\n",
       " ('link_id', 'Amq-qlqbjYA'))"
      ]
     },
     "execution_count": 49,
     "metadata": {},
     "output_type": "execute_result"
    }
   ],
   "source": [
    "tuple(list1[0].items())[0:2]"
   ]
  },
  {
   "cell_type": "code",
   "execution_count": 51,
   "metadata": {},
   "outputs": [],
   "source": [
    "test_list = [{'title': 'TWICE \"FANCY\" M/V', 'link_id': 'kOHB85vDuow', 'views': 114546224}, {'title': '[KCON 2019 JAPAN] TWICE - BDZㅣKCON 2019 JAPAN × M COUNTDOWN', 'link_id': '400Ki4hG6kw', 'views': 1024253}, {'title': '[KCON 2019 JAPAN] TWICE - INTRO + FANCYㅣKCON 2019 JAPAN × M COUNTDOWN', 'link_id': 'odU4qAyKKbs', 'views': 1447238}, {'title': 'TWICE \"What is Love?\" M/V', 'link_id': 'i0p1bmr0EmE', 'views': 298560015}, {'title': \"EXID(이엑스아이디) - 'ME&YOU' Music Video\", 'link_id': 'g9wfhJRyur8', 'views': 9179174}, {'title': 'BTS - Dionysus (방탄소년단 - Dionysus) [Color Coded Lyrics/Han/Rom/Eng/가사]', 'link_id': 'YmimK6HxqK4', 'views': 12600422}, {'title': 'IZ*ONE (아이즈원) - 비올레타 (Violeta) MV', 'link_id': '6eEZ7DJMzuk', 'views': 34626272}, {'title': \"BLACKPINK - 'Don't Know What To Do' Legendado (Letra Codificada Em Cores+Pt/Rom/Han/가사)\", 'link_id': 'Rf5QYMkxUlY', 'views': 1284475}, {'title': 'TWICE(트와이스)-FANCY[Music Bank/2019.05.03]', 'link_id': 'JcTS-g3VJA4', 'views': 1644957}, {'title': \"Red Velvet 레드벨벳 '러시안 룰렛 (Russian Roulette)' MV\", 'link_id': 'QslJYDX3o8s', 'views': 146494397}, {'title': 'ITZY \"달라달라(DALLA DALLA)\" M/V', 'link_id': 'pNfTK39k55U', 'views': 122763773}, {'title': '[Full Album] TWICE(트와이스) - FANCY YOU', 'link_id': 'bTBxbfev9lU', 'views': 215198}, {'title': 'TWICE \"YES or YES\" M/V', 'link_id': 'mAKsZ26SabQ', 'views': 181073579}, {'title': 'TWICE \"Dance The Night Away\" M/V', 'link_id': 'Fm5iP0S1z9w', 'views': 174915091}, {'title': 'EXO 엑소 \"Love Shot\" MV', 'link_id': 'pSudEWBAYRE', 'views': 149346553}, {'title': 'TWICE \"LIKEY\" M/V', 'link_id': 'V2hlQkVJZhE', 'views': 382413285}, {'title': 'Stray Kids \"MIROH\" M/V', 'link_id': 'Dab4EENTW5I', 'views': 43363033}, {'title': \"BTS (방탄소년단) '작은 것들을 위한 시 (Boy With Luv) feat. Halsey' Official MV\", 'link_id': 'XsX3ATc3FbA', 'views': 343873481}, {'title': 'TWICE (트와이스) \"FANCY\" (Color Coded Lyrics Eng/Rom/Han/가사)', 'link_id': 'mIXR-7u2Kas', 'views': 5919289}, {'title': 'TWICE \"CHEER UP\" M/V', 'link_id': 'c7rCyll5AeY', 'views': 337578027}, {'title': '[M/V] 아스트로 (ASTRO) - All Night (전화해)', 'link_id': 'r_jiyO0iHeE', 'views': 4617509}, {'title': \"NCT U 엔시티 유 'BOSS' MV\", 'link_id': '0AUFyFEt35g', 'views': 82135787}, {'title': '[MV] GFRIEND(여자친구) _ Time for the moon night(밤)', 'link_id': '_XyBa8QsVQU', 'views': 49909137}, {'title': \"BLACKPINK - 'Kill This Love' DANCE PRACTICE VIDEO (MOVING VER.)\", 'link_id': 'MOwaUlXZxkI', 'views': 98928625}, {'title': \"(여자)아이들((G)I-DLE) - 'Senorita' Official Music Video\", 'link_id': '2cevbhEqQF4', 'views': 20331981}, {'title': \"Girls' Generation 소녀시대 'Run Devil Run' MV\", 'link_id': 'q_gfD3nvh-8', 'views': 100857173}, {'title': \"(여자)아이들((G)I-DLE) - '한(一)(HANN(Alone))' Official Music Video\", 'link_id': 'OKNXn2qCEws', 'views': 60126245}, {'title': 'GOT7 \"If You Do(니가 하면)\" M/V', 'link_id': 'T0iPB_JyS5g', 'views': 153776191}, {'title': 'MAMAMOO(마마무) - gogobebe (고고베베) (Color Coded Lyrics Eng/Rom/Han/가사)', 'link_id': 'R8sZbleUQFg', 'views': 9129368}, {'title': '1 Hour ✗ TWICE (트와이스) - FANCY (Han/Rom/Eng Lyrics)', 'link_id': 'ZLs-8epGWo8', 'views': 268219}, {'title': 'BLACKPINK - Kill This Love [Show! Music Core Ep 627]', 'link_id': '_NTB8MyhrkI', 'views': 2243774}]"
   ]
  },
  {
   "cell_type": "code",
   "execution_count": 52,
   "metadata": {},
   "outputs": [
    {
     "name": "stdout",
     "output_type": "stream",
     "text": [
      "{'title': 'TWICE \"FANCY\" M/V', 'link_id': 'kOHB85vDuow', 'views': 114546224}\n",
      "{'title': '[KCON 2019 JAPAN] TWICE - BDZㅣKCON 2019 JAPAN × M COUNTDOWN', 'link_id': '400Ki4hG6kw', 'views': 1024253}\n",
      "{'title': '[KCON 2019 JAPAN] TWICE - INTRO + FANCYㅣKCON 2019 JAPAN × M COUNTDOWN', 'link_id': 'odU4qAyKKbs', 'views': 1447238}\n",
      "{'title': 'TWICE \"What is Love?\" M/V', 'link_id': 'i0p1bmr0EmE', 'views': 298560015}\n",
      "{'title': \"EXID(이엑스아이디) - 'ME&YOU' Music Video\", 'link_id': 'g9wfhJRyur8', 'views': 9179174}\n",
      "{'title': 'BTS - Dionysus (방탄소년단 - Dionysus) [Color Coded Lyrics/Han/Rom/Eng/가사]', 'link_id': 'YmimK6HxqK4', 'views': 12600422}\n",
      "{'title': 'IZ*ONE (아이즈원) - 비올레타 (Violeta) MV', 'link_id': '6eEZ7DJMzuk', 'views': 34626272}\n",
      "{'title': \"BLACKPINK - 'Don't Know What To Do' Legendado (Letra Codificada Em Cores+Pt/Rom/Han/가사)\", 'link_id': 'Rf5QYMkxUlY', 'views': 1284475}\n",
      "{'title': 'TWICE(트와이스)-FANCY[Music Bank/2019.05.03]', 'link_id': 'JcTS-g3VJA4', 'views': 1644957}\n",
      "{'title': \"Red Velvet 레드벨벳 '러시안 룰렛 (Russian Roulette)' MV\", 'link_id': 'QslJYDX3o8s', 'views': 146494397}\n",
      "{'title': 'ITZY \"달라달라(DALLA DALLA)\" M/V', 'link_id': 'pNfTK39k55U', 'views': 122763773}\n",
      "{'title': '[Full Album] TWICE(트와이스) - FANCY YOU', 'link_id': 'bTBxbfev9lU', 'views': 215198}\n",
      "{'title': 'TWICE \"YES or YES\" M/V', 'link_id': 'mAKsZ26SabQ', 'views': 181073579}\n",
      "{'title': 'TWICE \"Dance The Night Away\" M/V', 'link_id': 'Fm5iP0S1z9w', 'views': 174915091}\n",
      "{'title': 'EXO 엑소 \"Love Shot\" MV', 'link_id': 'pSudEWBAYRE', 'views': 149346553}\n",
      "{'title': 'TWICE \"LIKEY\" M/V', 'link_id': 'V2hlQkVJZhE', 'views': 382413285}\n",
      "{'title': 'Stray Kids \"MIROH\" M/V', 'link_id': 'Dab4EENTW5I', 'views': 43363033}\n",
      "{'title': \"BTS (방탄소년단) '작은 것들을 위한 시 (Boy With Luv) feat. Halsey' Official MV\", 'link_id': 'XsX3ATc3FbA', 'views': 343873481}\n",
      "{'title': 'TWICE (트와이스) \"FANCY\" (Color Coded Lyrics Eng/Rom/Han/가사)', 'link_id': 'mIXR-7u2Kas', 'views': 5919289}\n",
      "{'title': 'TWICE \"CHEER UP\" M/V', 'link_id': 'c7rCyll5AeY', 'views': 337578027}\n",
      "{'title': '[M/V] 아스트로 (ASTRO) - All Night (전화해)', 'link_id': 'r_jiyO0iHeE', 'views': 4617509}\n",
      "{'title': \"NCT U 엔시티 유 'BOSS' MV\", 'link_id': '0AUFyFEt35g', 'views': 82135787}\n",
      "{'title': '[MV] GFRIEND(여자친구) _ Time for the moon night(밤)', 'link_id': '_XyBa8QsVQU', 'views': 49909137}\n",
      "{'title': \"BLACKPINK - 'Kill This Love' DANCE PRACTICE VIDEO (MOVING VER.)\", 'link_id': 'MOwaUlXZxkI', 'views': 98928625}\n",
      "{'title': \"(여자)아이들((G)I-DLE) - 'Senorita' Official Music Video\", 'link_id': '2cevbhEqQF4', 'views': 20331981}\n",
      "{'title': \"Girls' Generation 소녀시대 'Run Devil Run' MV\", 'link_id': 'q_gfD3nvh-8', 'views': 100857173}\n",
      "{'title': \"(여자)아이들((G)I-DLE) - '한(一)(HANN(Alone))' Official Music Video\", 'link_id': 'OKNXn2qCEws', 'views': 60126245}\n",
      "{'title': 'GOT7 \"If You Do(니가 하면)\" M/V', 'link_id': 'T0iPB_JyS5g', 'views': 153776191}\n",
      "{'title': 'MAMAMOO(마마무) - gogobebe (고고베베) (Color Coded Lyrics Eng/Rom/Han/가사)', 'link_id': 'R8sZbleUQFg', 'views': 9129368}\n",
      "{'title': '1 Hour ✗ TWICE (트와이스) - FANCY (Han/Rom/Eng Lyrics)', 'link_id': 'ZLs-8epGWo8', 'views': 268219}\n",
      "{'title': 'BLACKPINK - Kill This Love [Show! Music Core Ep 627]', 'link_id': '_NTB8MyhrkI', 'views': 2243774}\n"
     ]
    }
   ],
   "source": [
    "for d in test_list:\n",
    "    print(d)"
   ]
  },
  {
   "cell_type": "code",
   "execution_count": 53,
   "metadata": {},
   "outputs": [
    {
     "data": {
      "text/plain": [
       "31"
      ]
     },
     "execution_count": 53,
     "metadata": {},
     "output_type": "execute_result"
    }
   ],
   "source": [
    "len(test_list)"
   ]
  },
  {
   "cell_type": "code",
   "execution_count": null,
   "metadata": {},
   "outputs": [],
   "source": []
  }
 ],
 "metadata": {
  "kernelspec": {
   "display_name": "Python 3",
   "language": "python",
   "name": "python3"
  },
  "language_info": {
   "codemirror_mode": {
    "name": "ipython",
    "version": 3
   },
   "file_extension": ".py",
   "mimetype": "text/x-python",
   "name": "python",
   "nbconvert_exporter": "python",
   "pygments_lexer": "ipython3",
   "version": "3.7.3"
  }
 },
 "nbformat": 4,
 "nbformat_minor": 2
}
